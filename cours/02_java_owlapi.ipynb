{
 "cells": [
  {
   "cell_type": "markdown",
   "id": "b4ae8829-06ea-472c-bce4-5ce76683310a",
   "metadata": {
    "tags": []
   },
   "source": [
    "---\n",
    "  title: \"Ontologies in Java with OWL API\"\n",
    "  description: \"Pratical introduction to ontologies with OWL API in Java.\"\n",
    "  categories: \n",
    "    - Java\n",
    "    - Lecture\n",
    "    - Ontology\n",
    "    - Jena\n",
    "---\n",
    "\n",
    "Dans le contexte informatique une ontologie est un modèle conceptuel d'un domaine métier. L'objectif de ce modèle est de faciliter le partage d'information à propos de ce domaine en s'appuyant sur des constructions standards. \n",
    "\n",
    "Les exemples les plus simples sont les taxonomies, comme par exemple en biologie la classification des êtres vivants. Plus généralement, une ontologie comprend aussi des contraintes à respecter ou des règles permettant d'inférer de nouveaux faits.  \n",
    "\n",
    "Web Semantique : \n",
    "Berners-Lee, T., Hendler, J. & Lassila, O.  (2001).  \"The Semantic Web,\" Scientific American, May 2001. \n",
    "Linked Open Data (LOD):\n",
    "\n",
    "XSD\n",
    "RDF\n",
    "RDFS\n",
    "OWL\n",
    "\n",
    "https://www.w3.org/TR/2012/REC-owl2-primer-20121211/\n",
    "\n",
    "Une ontologie décrite en utilisant OWL perlet des définir des classes, des propriétés, des individus et des valeurs. \n",
    "On distingue le niveau terminologique (TBox) qui décrit les connaissances générales d'un domaine. \n",
    "    \"Il y a des département qui ont des employé et un directeur.\"\n",
    "Le second niveau est factuel (ABox) il décrit représente une configuration précise \n",
    "    \"Pierre est le directeur du département d'informatique. Marie est membre du département d'informatique.\""
   ]
  },
  {
   "cell_type": "code",
   "execution_count": 1,
   "id": "2843f06d-8066-459b-948e-5aad1ebb57b2",
   "metadata": {
    "tags": [],
    "vscode": {
     "languageId": "java"
    }
   },
   "outputs": [],
   "source": [
    "%%loadFromPOM\n",
    "<dependency>\n",
    " <groupId>ch.qos.logback</groupId>\n",
    " <artifactId>logback-classic</artifactId>\n",
    " <version>1.4.5</version>\n",
    "</dependency>\n",
    "\n",
    "<dependency>\n",
    "    <groupId>net.sourceforge.owlapi</groupId>\n",
    "    <artifactId>owlapi-distribution</artifactId>\n",
    "    <version>5.5.0</version>\n",
    "</dependency>\n",
    "<dependency>\n",
    "  <groupId>com.github.galigator.openllet</groupId>\n",
    "  <artifactId>openllet-owlapi</artifactId>\n",
    "  <version>2.6.5</version>\n",
    "</dependency>"
   ]
  },
  {
   "cell_type": "code",
   "execution_count": 2,
   "id": "e326f342-97b6-4909-a740-45dc1f6d5334",
   "metadata": {
    "vscode": {
     "languageId": "java"
    }
   },
   "outputs": [],
   "source": [
    "import org.semanticweb.owlapi.apibinding.OWLManager;\n",
    "import org.semanticweb.owlapi.model.*;\n",
    "import org.semanticweb.owlapi.io.StringDocumentSource;\n",
    "import org.semanticweb.owlapi.reasoner.OWLReasoner;\n",
    "\n",
    "import openllet.owlapi.OpenlletReasoner;\n",
    "import openllet.owlapi.OpenlletReasonerFactory;\n",
    "\n",
    "import java.io.ByteArrayInputStream;\n",
    "\n",
    "import ch.qos.logback.classic.util.ContextInitializer;\n",
    "\n",
    "System.setProperty(ContextInitializer.CONFIG_FILE_PROPERTY, \"/home/jovyan/work/javanotebook-full/logback.xml\");\n",
    "\n",
    "IJava.getKernelInstance().getMagics().registerCellMagic(\"loadOwlModel\", (args, body) -> {\n",
    "    body=\"\"\"\n",
    "@prefix rdf: <http://www.w3.org/1999/02/22-rdf-syntax-ns#> .\n",
    "@prefix rdfs: <http://www.w3.org/2000/01/rdf-schema#> .\n",
    "@prefix owl: <http://www.w3.org/2002/07/owl#> .\n",
    "@prefix xsd: <http://www.w3.org/2001/XMLSchema#> .\n",
    "@prefix : <http://ebruno.fr/2023/ontologies/test#> .    \n",
    "\"\"\"+body;    \n",
    "    OWLOntologyManager m = OWLManager.createOWLOntologyManager();\n",
    "        OWLOntology owlOntology = m.loadOntologyFromOntologyDocument(new StringDocumentSource(body));\n",
    "    \n",
    "    final OpenlletReasoner reasoner = OpenlletReasonerFactory.getInstance().createReasoner(owlOntology);\n",
    "    if (reasoner.isConsistent()) {\n",
    "      reasoner.getKB().realize();\n",
    "      reasoner.getKB().printClassTree();\n",
    "    } else\n",
    "        System.err.println(\"The model is not consistent.\");\n",
    "    \n",
    "    StringBuilder out=new StringBuilder(\"Model loaded\");\n",
    " display(out,\"text/markdown\");\n",
    " return out;\n",
    "});"
   ]
  },
  {
   "cell_type": "code",
   "execution_count": 3,
   "id": "50a7d376-8066-48b2-bcce-ed90c0db59cc",
   "metadata": {
    "vscode": {
     "languageId": "java"
    }
   },
   "outputs": [
    {
     "name": "stdout",
     "output_type": "stream",
     "text": [
      "\n",
      " owl:Thing\n",
      "    test:Person - (test:Mary)\n",
      "\n"
     ]
    },
    {
     "data": {
      "text/markdown": [
       "Model loaded"
      ],
      "text/plain": [
       "Model loaded"
      ]
     },
     "metadata": {},
     "output_type": "display_data"
    }
   ],
   "source": [
    "%%loadOwlModel\n",
    "@prefix : <http://ebruno.fr/2023/ontologies/test#> .\n",
    "    :Mary a :Person .\n",
    "    :Person a owl:Class ."
   ]
  },
  {
   "cell_type": "markdown",
   "id": "e27fa862-37df-4068-b59b-cfb37623d00d",
   "metadata": {
    "tags": []
   },
   "source": [
    "## Les classes\n",
    "### Classes énumérées"
   ]
  },
  {
   "cell_type": "code",
   "execution_count": 4,
   "id": "687dfd91-54fa-4225-afa0-5b5bd0169e86",
   "metadata": {
    "vscode": {
     "languageId": "java"
    }
   },
   "outputs": [
    {
     "name": "stdout",
     "output_type": "stream",
     "text": [
      "\n",
      " owl:Thing\n",
      "    test:Status - (test:Offline, test:OnLine)\n",
      "\n"
     ]
    },
    {
     "data": {
      "text/markdown": [
       "Model loaded"
      ],
      "text/plain": [
       "Model loaded"
      ]
     },
     "metadata": {},
     "output_type": "display_data"
    }
   ],
   "source": [
    "%%loadOwlModel\n",
    "@prefix : <http://ebruno.fr/2023/ontologies/test#> .\n",
    ":Status rdf:type owl:Class ;\n",
    "    owl:oneOf (:OnLine :Offline) ."
   ]
  },
  {
   "cell_type": "markdown",
   "id": "544f3f7d-dd63-4731-ab33-8411503865ed",
   "metadata": {},
   "source": [
    "### Union"
   ]
  },
  {
   "cell_type": "code",
   "execution_count": 5,
   "id": "1eb41da7-8d41-4af4-8894-96972bf8d379",
   "metadata": {
    "vscode": {
     "languageId": "java"
    }
   },
   "outputs": [
    {
     "name": "stdout",
     "output_type": "stream",
     "text": [
      "\n",
      " owl:Thing\n",
      "    test:LegalAgent\n",
      "       test:Group\n",
      "       test:Person\n",
      "\n"
     ]
    },
    {
     "data": {
      "text/markdown": [
       "Model loaded"
      ],
      "text/plain": [
       "Model loaded"
      ]
     },
     "metadata": {},
     "output_type": "display_data"
    }
   ],
   "source": [
    "%%loadOwlModel\n",
    "@prefix : <http://ebruno.fr/2023/ontologies/test#> .\n",
    ":LegalAgent a owl:Class ;\n",
    "owl:equivalentClass [\n",
    "        a owl:Class ;\n",
    "        owl:unionOf ( :Person :Group )\n",
    "    ] ."
   ]
  },
  {
   "cell_type": "markdown",
   "id": "9abae8b0-83e2-4f10-bdb6-e5728ddf1a8d",
   "metadata": {
    "tags": []
   },
   "source": [
    "### Intersection"
   ]
  },
  {
   "cell_type": "code",
   "execution_count": 6,
   "id": "da69fd70-4309-4bba-a457-b2b031db2175",
   "metadata": {
    "vscode": {
     "languageId": "java"
    }
   },
   "outputs": [
    {
     "name": "stdout",
     "output_type": "stream",
     "text": [
      "\n",
      " owl:Thing\n",
      "    test:Male\n",
      "       test:Man\n",
      "    test:Person\n",
      "       test:Man\n",
      "\n"
     ]
    },
    {
     "data": {
      "text/markdown": [
       "Model loaded"
      ],
      "text/plain": [
       "Model loaded"
      ]
     },
     "metadata": {},
     "output_type": "display_data"
    }
   ],
   "source": [
    "%%loadOwlModel\n",
    "@prefix : <http://ebruno.fr/2023/ontologies/test#> .\n",
    ":Man a owl:Class ;\n",
    "    owl:equivalentClass [\n",
    "        a owl:Class ;\n",
    "        owl:intersectionOf ( :Person :Male )\n",
    "    ]."
   ]
  },
  {
   "cell_type": "markdown",
   "id": "52646a25-9b83-4966-a6c9-04677bdc8551",
   "metadata": {
    "tags": []
   },
   "source": [
    "### Négation"
   ]
  },
  {
   "cell_type": "code",
   "execution_count": 7,
   "id": "6c1daa2a-9012-4f99-bf68-17387d0a871a",
   "metadata": {
    "vscode": {
     "languageId": "java"
    }
   },
   "outputs": [
    {
     "name": "stdout",
     "output_type": "stream",
     "text": [
      "\n",
      " owl:Thing\n",
      "    test:Edible - (test:Pierre)\n",
      "    test:Inedible\n",
      "\n"
     ]
    },
    {
     "data": {
      "text/markdown": [
       "Model loaded"
      ],
      "text/plain": [
       "Model loaded"
      ]
     },
     "metadata": {},
     "output_type": "display_data"
    }
   ],
   "source": [
    "%%loadOwlModel\n",
    "@prefix : <http://ebruno.fr/2023/ontologies/test#> .\n",
    ":Inedible a owl:Class ;\n",
    "owl:equivalentClass [\n",
    "  a owl:Class ;\n",
    "  owl:complementOf :Edible\n",
    "  ] .\n",
    "    \n",
    ":Pierre a :Edible.\n",
    ":Mary :hasName \"mary\"."
   ]
  },
  {
   "cell_type": "markdown",
   "id": "81f0ae8d-a696-4da6-86b8-bc838356d478",
   "metadata": {
    "tags": []
   },
   "source": [
    "### Disjonction\n",
    "\n",
    "deux classes : Une ressource ne peut pas appartenir aux deux classes en même temps."
   ]
  },
  {
   "cell_type": "code",
   "execution_count": 8,
   "id": "6029862d-e2c9-4598-96c6-326cceba4b74",
   "metadata": {
    "vscode": {
     "languageId": "java"
    }
   },
   "outputs": [
    {
     "name": "stderr",
     "output_type": "stream",
     "text": [
      "The model is not consistent.\n"
     ]
    },
    {
     "data": {
      "text/markdown": [
       "Model loaded"
      ],
      "text/plain": [
       "Model loaded"
      ]
     },
     "metadata": {},
     "output_type": "display_data"
    }
   ],
   "source": [
    "%%loadOwlModel\n",
    "@prefix : <http://ebruno.fr/2023/ontologies/test#> .\n",
    "\n",
    ":Square rdf:type owl:Class ;\n",
    "        owl:disjointWith :Circle .\n",
    "    \n",
    ":c a :Square ; \n",
    "   a :Circle . "
   ]
  },
  {
   "cell_type": "code",
   "execution_count": 9,
   "id": "d512224a-decd-47d9-9cd7-d3139374f8c5",
   "metadata": {
    "vscode": {
     "languageId": "java"
    }
   },
   "outputs": [
    {
     "name": "stderr",
     "output_type": "stream",
     "text": [
      "The model is not consistent.\n"
     ]
    },
    {
     "data": {
      "text/markdown": [
       "Model loaded"
      ],
      "text/plain": [
       "Model loaded"
      ]
     },
     "metadata": {},
     "output_type": "display_data"
    }
   ],
   "source": [
    "%%loadOwlModel\n",
    "@prefix : <http://ebruno.fr/2023/ontologies/test#> .\n",
    "                   @prefix rdf: <http://www.w3.org/1999/02/22-rdf-syntax-ns#> .\n",
    "                   @prefix rdfs: <http://www.w3.org/2000/01/rdf-schema#> .\n",
    "                   @prefix owl: <http://www.w3.org/2002/07/owl#> .\n",
    "                   @prefix xsd: <http://www.w3.org/2001/XMLSchema#> .\n",
    "                   :Mary a :Student; a :Professor .\n",
    "                   :Student a owl:Class .\n",
    "                   :Professor a owl:Class .\n",
    "                       \n",
    "                   :Student rdf:type owl:Class ;\n",
    "                       owl:disjointWith :Professor ."
   ]
  },
  {
   "cell_type": "markdown",
   "id": "da25fa2a-f1c1-43dc-9368-19db883555d1",
   "metadata": {},
   "source": [
    "### Disjonction de plusieurs classes\n",
    "\n",
    "une ressource ne peut, au plus, appartenir qu’à une seule de ces classes"
   ]
  },
  {
   "cell_type": "code",
   "execution_count": 10,
   "id": "2101bcde-a33e-423c-a6c7-6b75993da8b1",
   "metadata": {
    "vscode": {
     "languageId": "java"
    }
   },
   "outputs": [
    {
     "name": "stderr",
     "output_type": "stream",
     "text": [
      "The model is not consistent.\n"
     ]
    },
    {
     "data": {
      "text/markdown": [
       "Model loaded"
      ],
      "text/plain": [
       "Model loaded"
      ]
     },
     "metadata": {},
     "output_type": "display_data"
    }
   ],
   "source": [
    "%%loadOwlModel\n",
    "@prefix : <http://ebruno.fr/2023/ontologies/test#> .\n",
    "\n",
    "[] rdf:type owl:AllDisjointClasses ;\n",
    "   owl:members ( :Square :Circle :Triangle ) .\n",
    "           \n",
    ":c rdf:type :Square .\n",
    ":c rdf:type :Circle ."
   ]
  },
  {
   "cell_type": "markdown",
   "id": "47df4059-74d0-4f94-84cc-de1bb33600d9",
   "metadata": {},
   "source": [
    "### Union disjointe\n",
    "diviser une classe en une partition complète de sous classes"
   ]
  },
  {
   "cell_type": "code",
   "execution_count": 11,
   "id": "d1c976bb-c887-47a7-b418-bc53fb2444b5",
   "metadata": {
    "vscode": {
     "languageId": "java"
    }
   },
   "outputs": [
    {
     "name": "stdout",
     "output_type": "stream",
     "text": [
      "13:20:40 WARN - Possible malformed list: rdf:first triple missing\n"
     ]
    },
    {
     "ename": "EvalException",
     "evalue": "Exception occurred while running cell magic 'loadOwlModel': classExpressions cannot be null or empty",
     "output_type": "error",
     "traceback": [
      "\u001b[1m\u001b[31m---------------------------------------------------------------------------\u001b[0m",
      "\u001b[1m\u001b[31mjava.lang.RuntimeException: Exception occurred while running cell magic 'loadOwlModel': classExpressions cannot be null or empty\u001b[0m",
      "\u001b[1m\u001b[31m\tat io.github.spencerpark.ijava.runtime.Magics.cellMagic(Magics.java:58)\u001b[0m",
      "\u001b[1m\u001b[31m\tat .(#94:1)\u001b[0m"
     ]
    }
   ],
   "source": [
    "%%loadOwlModel\n",
    "\n",
    ":Passenger rdf:type owl:Class ;\n",
    "           owl:disjointUnionOf :Adult, :Child, :Pet .\n",
    "               \n",
    ":p1 a :Adult ;             \n",
    "    a :Child ;\n",
    "    a :Pet ."
   ]
  },
  {
   "cell_type": "code",
   "execution_count": 12,
   "id": "a61e8b04-b5ed-42f2-bb55-e31e7345895a",
   "metadata": {
    "vscode": {
     "languageId": "java"
    }
   },
   "outputs": [
    {
     "name": "stdout",
     "output_type": "stream",
     "text": [
      "\n",
      " owl:Thing\n",
      "    test:Activity - (test:event)\n",
      "    test:Man - (test:John_jr, test:John)\n",
      "    test:Person - (test:u129u-klejkajo-2309124u-sajfl)\n",
      "    test:Time_Span - (1 Anonymous Individual)\n",
      "    test:Woman - (test:Mary)\n",
      "\n"
     ]
    },
    {
     "data": {
      "text/markdown": [
       "Model loaded"
      ],
      "text/plain": [
       "Model loaded"
      ]
     },
     "metadata": {},
     "output_type": "display_data"
    }
   ],
   "source": [
    "%%loadOwlModel\n",
    "\n",
    ":John a :Man ;\n",
    "    :name \"John\" ;\n",
    "    :hasSpouse :Mary .\n",
    ":Mary a :Woman ;\n",
    "    :name \"Mary\" ;\n",
    "    :hasSpouse :John .\n",
    ":John_jr a :Man ;\n",
    "    :name \"John Jr.\" ;\n",
    "    :hasParent :John, :Mary .\n",
    ":Time_Span a owl:Class .\n",
    ":event a :Activity ;\n",
    "    :has_time_span [\n",
    "        a :Time_Span ;\n",
    "        :at_some_time_within_date \"2018-01-12\"^^xsd:date\n",
    "        ] .\n",
    ":u129u-klejkajo-2309124u-sajfl a :Person ;\n",
    "    :name \"John Doe\" ."
   ]
  },
  {
   "cell_type": "markdown",
   "id": "462aaf15-fe37-4e43-ba09-701e0a2be6eb",
   "metadata": {},
   "source": [
    "## Les propriétés\n",
    "\n",
    "  1. owl:ObjectProperty sont des relations entre des ressources\n",
    "  1. owl:DatatypeProperty ont des valeurs littérales (typées)\n",
    "  1. owl:AnnotationProperty sont ignorées dans les inférences et utilisées pour documenter ou pour des extensions"
   ]
  },
  {
   "cell_type": "markdown",
   "id": "d157a947-e641-4e5e-8699-f3b3049d9172",
   "metadata": {},
   "source": [
    "Une relation peut être symétriques ou non, et/ou réflexive ou non.\n",
    "\n",
    "AsymmetricProperty"
   ]
  },
  {
   "cell_type": "code",
   "execution_count": 13,
   "id": "a243a11b-883c-4829-a488-5b6300e1b96f",
   "metadata": {
    "vscode": {
     "languageId": "java"
    }
   },
   "outputs": [
    {
     "name": "stdout",
     "output_type": "stream",
     "text": [
      "\n",
      " owl:Thing\n",
      "\n"
     ]
    },
    {
     "data": {
      "text/markdown": [
       "Model loaded"
      ],
      "text/plain": [
       "Model loaded"
      ]
     },
     "metadata": {},
     "output_type": "display_data"
    }
   ],
   "source": [
    "%%loadOwlModel\n",
    "\n",
    ":hasSpouse rdf:type owl:ObjectProperty ,\n",
    "        owl:SymmetricProperty ,\n",
    "        owl:IrreflexiveProperty ."
   ]
  },
  {
   "cell_type": "code",
   "execution_count": 14,
   "id": "40758000-5e3b-488b-a4a1-05fae072e168",
   "metadata": {
    "vscode": {
     "languageId": "java"
    }
   },
   "outputs": [
    {
     "name": "stdout",
     "output_type": "stream",
     "text": [
      "\n",
      " owl:Thing\n",
      "\n"
     ]
    },
    {
     "data": {
      "text/markdown": [
       "Model loaded"
      ],
      "text/plain": [
       "Model loaded"
      ]
     },
     "metadata": {},
     "output_type": "display_data"
    }
   ],
   "source": [
    "%%loadOwlModel      \n",
    "\n",
    ":x :hasSpouse :y.\n",
    ":b :hasSpouse :b."
   ]
  },
  {
   "cell_type": "markdown",
   "id": "e25080c3-46bc-4fe1-9f81-c0ccdac96ce8",
   "metadata": {},
   "source": [
    "inverse : deux relations qui existent simultanément en sens inverse (ex. parent_de /\n",
    "enfant_de)\n",
    "\n",
    "transitives : une relation qui se propage de proche en proche (ex. Tom ancêtre Jim ancêtre\n",
    "Jules)\n",
    "\n",
    "propriétés disjointes : Des relations qui ne peuvent pas exister en même temps sur le même sujet et le même objet"
   ]
  },
  {
   "cell_type": "code",
   "execution_count": 15,
   "id": "b29a8b85-2ece-4d1c-8d84-4bc58aadf7b3",
   "metadata": {
    "vscode": {
     "languageId": "java"
    }
   },
   "outputs": [
    {
     "name": "stdout",
     "output_type": "stream",
     "text": [
      "13:20:41 INFO - Unparsed triple: http://www.w3.org/2002/07/owl#disjointwith -> http://ebruno.fr/2023/ontologies/test#hasSon -> http://ebruno.fr/2023/ontologies/test#hasDaughter\n"
     ]
    },
    {
     "name": "stdout",
     "output_type": "stream",
     "text": [
      "\n",
      " owl:Thing - (test:Jean, test:Mary, test:Sophie)\n",
      "    owl:transitive - (test:hasAncestor)\n",
      "\n"
     ]
    },
    {
     "data": {
      "text/markdown": [
       "Model loaded"
      ],
      "text/plain": [
       "Model loaded"
      ]
     },
     "metadata": {},
     "output_type": "display_data"
    }
   ],
   "source": [
    "%%loadOwlModel\n",
    "\n",
    ":hasAncestor rdf:type owl:ObjectProperty ,\n",
    "        owl:transitive ;\n",
    "        owl:inverseOf :hasDescendant .            \n",
    "\n",
    ":hasSon rdf:type owl:ObjectProperty ;\n",
    "        owl:disjointwith :hasDaughter.             \n",
    "            \n",
    ":Mary :hasHusband :Pierre .\n",
    ":Mary :hasAncestor :Jean .\n",
    ":Jean :hasAncestor :Sophie .\n",
    "            "
   ]
  },
  {
   "cell_type": "code",
   "execution_count": 16,
   "id": "af629cba-bace-4334-8f2c-7b58f7cae2c4",
   "metadata": {
    "vscode": {
     "languageId": "java"
    }
   },
   "outputs": [
    {
     "name": "stdout",
     "output_type": "stream",
     "text": [
      "13:20:41 INFO - Unparsed triple: http://www.w3.org/2002/07/owl#propertyDisjointWith -> http://ebruno.fr/2023/ontologies/test#hasSon -> http://ebruno.fr/2023/ontologies/test#hasDaughter\n"
     ]
    },
    {
     "name": "stdout",
     "output_type": "stream",
     "text": [
      "\n",
      " owl:Thing - (test:x, test:y)\n",
      "\n"
     ]
    },
    {
     "data": {
      "text/markdown": [
       "Model loaded"
      ],
      "text/plain": [
       "Model loaded"
      ]
     },
     "metadata": {},
     "output_type": "display_data"
    }
   ],
   "source": [
    "%%loadOwlModel\n",
    "          \n",
    ":hasSon rdf:type owl:ObjectProperty ;\n",
    "        owl:propertyDisjointWith :hasDaughter.\n",
    "            \n",
    ":x :hasSon :y .\n",
    ":x :hasDaughter :y ."
   ]
  },
  {
   "cell_type": "markdown",
   "id": "3dd49bb7-2abb-41b3-9e92-e051db3ed64b",
   "metadata": {},
   "source": [
    "propriétés chaînées\n",
    "des relations qui mises bout à bout impliquent une autre relation\n",
    "(ex. parent + frère = oncle)"
   ]
  },
  {
   "cell_type": "code",
   "execution_count": 17,
   "id": "c13f9999-6927-45c2-ba4a-0025484e570a",
   "metadata": {
    "vscode": {
     "languageId": "java"
    }
   },
   "outputs": [
    {
     "name": "stdout",
     "output_type": "stream",
     "text": [
      "\n",
      " owl:Thing\n",
      "\n"
     ]
    },
    {
     "data": {
      "text/markdown": [
       "Model loaded"
      ],
      "text/plain": [
       "Model loaded"
      ]
     },
     "metadata": {},
     "output_type": "display_data"
    }
   ],
   "source": [
    "%%loadOwlModel\n",
    "\n",
    ":hasUncle owl:propertyChainAxiom (:hasParent :hasBrother).\n",
    "\n",
    ":hasGrandparent owl:propertyChainAxiom ( :hasParent :hasParent ).\n",
    "\n",
    ":x :hasParent :y.\n",
    ":y :hasParent :z.\n",
    ":y :hasBrother :y1."
   ]
  },
  {
   "cell_type": "markdown",
   "id": "4959092c-40c6-4a28-9644-383063840d70",
   "metadata": {},
   "source": [
    "propriétés fonctionnelles\n",
    "une relation pour laquelle une ressource ne peut avoir qu’une valeur (ex.\n",
    "naissance)\n",
    "\n",
    "propriétés inverses fonctionnelles\n",
    "une relation pour laquelle une même valeur implique la même ressource (ex.\n",
    "NSS)"
   ]
  },
  {
   "cell_type": "code",
   "execution_count": 18,
   "id": "d056defb-a02b-4f8c-b658-ebb1f4951ad9",
   "metadata": {
    "vscode": {
     "languageId": "java"
    }
   },
   "outputs": [
    {
     "name": "stdout",
     "output_type": "stream",
     "text": [
      "\n",
      " owl:Thing\n",
      "    families:Man - (test:x)\n",
      "    families:Person - (test:x, test:y)\n",
      "    families:Woman - (test:y)\n",
      "\n"
     ]
    },
    {
     "data": {
      "text/markdown": [
       "Model loaded"
      ],
      "text/plain": [
       "Model loaded"
      ]
     },
     "metadata": {},
     "output_type": "display_data"
    }
   ],
   "source": [
    "%%loadOwlModel\n",
    "@prefix f: <http://example.com/owl/families#> .\n",
    "@prefix g: <http://example.com/owl/families#> .\n",
    "\n",
    "f:hasWife rdf:type owl:ObjectProperty ,\n",
    "        owl:InverseFunctionalProperty ,\n",
    "        owl:FunctionalProperty ,\n",
    "        owl:AsymmetricProperty ,\n",
    "        owl:IrreflexiveProperty ;\n",
    "    rdfs:domain f:Person ;\n",
    "    rdfs:range f:Person ;\n",
    "    rdfs:subPropertyOf f:loves ;\n",
    "    rdfs:range f:Woman ;\n",
    "    rdfs:subPropertyOf f:hasSpouse ;\n",
    "    rdfs:domain f:Man .\n",
    "        \n",
    ":x f:hasWife :y ."
   ]
  },
  {
   "cell_type": "markdown",
   "id": "201afb62-2bca-4b86-baf0-81ce62fe5535",
   "metadata": {},
   "source": [
    "identification par des clés\n",
    "deux instances qui ont même(s) valeur(s) de clé(s) sont en réalité la même\n",
    "instance"
   ]
  },
  {
   "cell_type": "code",
   "execution_count": 19,
   "id": "7fdda5ba-a20d-40dc-a548-8779afff2817",
   "metadata": {
    "vscode": {
     "languageId": "java"
    }
   },
   "outputs": [
    {
     "name": "stdout",
     "output_type": "stream",
     "text": [
      "13:20:41 WARN - Property http://ebruno.fr/2023/ontologies/test#hasSSN is undeclared at this point in parsing: typing as OWLDataProperty\n"
     ]
    },
    {
     "name": "stdout",
     "output_type": "stream",
     "text": [
      "\n",
      " owl:Thing\n",
      "    test:Person\n",
      "\n"
     ]
    },
    {
     "data": {
      "text/markdown": [
       "Model loaded"
      ],
      "text/plain": [
       "Model loaded"
      ]
     },
     "metadata": {},
     "output_type": "display_data"
    }
   ],
   "source": [
    "%%loadOwlModel\n",
    "@prefix : <http://ebruno.fr/2023/ontologies/test#> .\n",
    "\n",
    ":Person owl:hasKey ( :hasSSN ) .\n",
    "    \n",
    ":x :hasSSN \"1234\" ; \n",
    "   :hasName \"Pierre\" .\n",
    ":y :hasSSN \"1234\" .\n"
   ]
  },
  {
   "cell_type": "code",
   "execution_count": 20,
   "id": "534523d6-f6bd-4948-91f8-e2aa1720722c",
   "metadata": {
    "vscode": {
     "languageId": "java"
    }
   },
   "outputs": [],
   "source": []
  }
 ],
 "metadata": {
  "kernelspec": {
   "display_name": "Java [conda env:root] *",
   "language": "java",
   "name": "conda-root-java"
  },
  "language_info": {
   "codemirror_mode": "java",
   "file_extension": ".jshell",
   "mimetype": "text/x-java-source",
   "name": "Java",
   "pygments_lexer": "java",
   "version": "21.0.2+13-LTS"
  }
 },
 "nbformat": 4,
 "nbformat_minor": 5
}

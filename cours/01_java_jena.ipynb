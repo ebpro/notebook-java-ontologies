{
 "cells": [
  {
   "cell_type": "markdown",
   "id": "b4ae8829-06ea-472c-bce4-5ce76683310a",
   "metadata": {
    "tags": []
   },
   "source": [
    "---\n",
    "  title: \"Ontologies in Java with Apache Jena\"\n",
    "  description: \"Pratical introduction to ontologies with Apache Jean in Java.\"\n",
    "  categories: \n",
    "    - Java\n",
    "    - Lecture\n",
    "    - Ontology\n",
    "    - Jena\n",
    "---\n",
    "\n",
    "# An introduction to OWL Ontologies\n",
    "\n",
    "Dans le contexte informatique une ontologie est un modèle conceptuel d'un domaine métier. L'objectif de ce modèle est de faciliter le partage d'information à propos de ce domaine en s'appuyant sur des constructions standards. \n",
    "\n",
    "Les exemples les plus simples sont les taxonomies, comme par exemple en biologie la classification des êtres vivants. Plus généralement, une ontologie comprend aussi des contraintes à respecter ou des règles permettant d'inférer de nouveaux faits.  \n",
    "\n",
    "Web Semantique : \n",
    "Berners-Lee, T., Hendler, J. & Lassila, O.  (2001).  \"The Semantic Web,\" Scientific American, May 2001. \n",
    "Linked Open Data (LOD):\n",
    "\n",
    "XSD\n",
    "RDF\n",
    "RDFS\n",
    "OWL\n",
    "\n",
    "https://www.w3.org/TR/2012/REC-owl2-primer-20121211/\n",
    "\n",
    "Une ontologie décrite en utilisant OWL permet des définir des classes, des propriétés, des individus et des valeurs. \n",
    "On distingue :\n",
    " * le niveau terminologique (TBox) qui décrit les connaissances générales d'un domaine.\n",
    "    >\"Il existe des départements qui ont des employés et un directeur.\"\n",
    " * Le niveau factuel (ABox) qui décrit une configuration précise \n",
    "    >\"Pierre est le directeur du département d'informatique. Marie est membre du département d'informatique.\""
   ]
  },
  {
   "cell_type": "code",
   "execution_count": 1,
   "id": "2843f06d-8066-459b-948e-5aad1ebb57b2",
   "metadata": {
    "tags": [],
    "vscode": {
     "languageId": "java"
    }
   },
   "outputs": [
    {
     "ename": "EvalException",
     "evalue": "Exception occurred while running cell magic 'loadFromPOM': Could not find artifact org.apache.jena:apache-jena-libs:jar:4.7.0 in central (https://repo.maven.apache.org/maven2/)",
     "output_type": "error",
     "traceback": [
      "\u001b[1m\u001b[31m---------------------------------------------------------------------------\u001b[0m",
      "\u001b[1m\u001b[31mjava.lang.RuntimeException: Exception occurred while running cell magic 'loadFromPOM': Could not find artifact org.apache.jena:apache-jena-libs:jar:4.7.0 in central (https://repo.maven.apache.org/maven2/)\u001b[0m",
      "\u001b[1m\u001b[31m\tat io.github.spencerpark.ijava.runtime.Magics.cellMagic(Magics.java:58)\u001b[0m",
      "\u001b[1m\u001b[31m\tat .(#57:1)\u001b[0m"
     ]
    }
   ],
   "source": [
    "%%loadFromPOM\n",
    "<dependency>\n",
    " <groupId>org.apache.jena</groupId>\n",
    " <artifactId>apache-jena-libs</artifactId>\n",
    " <version>4.7.0</version>\n",
    " <type>pom</type>\n",
    "</dependency>\n",
    "<dependency>\n",
    " <groupId>ch.qos.logback</groupId>\n",
    " <artifactId>logback-classic</artifactId>\n",
    " <version>1.4.5</version>\n",
    "</dependency>\n",
    "<dependency>\n",
    "  <groupId>com.github.galigator.openllet</groupId>\n",
    "  <artifactId>openllet-jena</artifactId>\n",
    "  <version>2.6.5</version>\n",
    "</dependency>"
   ]
  },
  {
   "cell_type": "code",
   "execution_count": 2,
   "id": "e326f342-97b6-4909-a740-45dc1f6d5334",
   "metadata": {
    "vscode": {
     "languageId": "java"
    }
   },
   "outputs": [
    {
     "ename": "CompilationException",
     "evalue": "",
     "output_type": "error",
     "traceback": [
      "\u001b[1m\u001b[30m|   \u001b[1m\u001b[30mimport \u001b[0m\u001b[1m\u001b[30m\u001b[41morg.apache.jena.ontology.OntModel\u001b[0m\u001b[1m\u001b[30m;\u001b[0m",
      "\u001b[1m\u001b[31mpackage org.apache.jena.ontology does not exist\u001b[0m",
      ""
     ]
    }
   ],
   "source": [
    "import org.apache.jena.ontology.OntModel;\n",
    "import org.apache.jena.rdf.model.ModelFactory;\n",
    "import org.apache.jena.reasoner.ValidityReport;\n",
    "import org.apache.jena.ontology.OntModelSpec;\n",
    "\n",
    "import java.io.ByteArrayInputStream;\n",
    "\n",
    "import org.apache.jena.riot.RDFDataMgr;\n",
    "import org.apache.jena.riot.Lang;\n",
    "\n",
    "import ch.qos.logback.classic.util.ContextInitializer;\n",
    "\n",
    "import openllet.jena.PelletReasonerFactory;\n",
    "\n",
    "OntModel model;\n",
    "\n",
    "System.setProperty(ContextInitializer.CONFIG_FILE_PROPERTY, \"/home/jovyan/work/javanotebook-full/logback.xml\");\n",
    "\n",
    "IJava.getKernelInstance().getMagics().registerCellMagic(\"loadOwlModel\", (args, body) -> {\n",
    "    body=\"\"\"\n",
    "@prefix rdf: <http://www.w3.org/1999/02/22-rdf-syntax-ns#> .\n",
    "@prefix rdfs: <http://www.w3.org/2000/01/rdf-schema#> .\n",
    "@prefix owl: <http://www.w3.org/2002/07/owl#> .\n",
    "@prefix xsd: <http://www.w3.org/2001/XMLSchema#> .\n",
    "@prefix : <http://ebruno.fr/2023/ontologies/test#> .    \n",
    "\"\"\"+body;\n",
    "\n",
    "    //model = ModelFactory.createOntologyModel(OntModelSpec.OWL_MEM_MINI_RULE_INF);\n",
    "    if (model == null) \n",
    "        model = ModelFactory.createOntologyModel(PelletReasonerFactory.THE_SPEC);\n",
    "    if (args.contains(\"reset\")) {\n",
    "        System.err.println(\"model resetted.\");\n",
    "        model.removeAll();\n",
    "    }\n",
    "    model.read(new ByteArrayInputStream(body.getBytes()), null, \"TURTLE\");\n",
    "    model.setDerivationLogging(false);\n",
    "    \n",
    "    StringBuilder out=new StringBuilder(\"Model size: \" + model.size()+\"<BR/>\");\n",
    "    ValidityReport validity = model.validate();\n",
    "    StringBuilder validityReports = new StringBuilder();\n",
    "    if (validity.isValid()) {\n",
    "            out.append(\"Model is valid<BR/>\");\n",
    "        } else {\n",
    "            out.append(\"Conflicts in the model :<BR/><OL>\");\n",
    "            validity.getReports().forEachRemaining(r-> out.append(\"<LI>\"+r+\"</LI>\"));            \n",
    "            out.append(\"</OL>\");\n",
    "        } \n",
    " display(out,\"text/markdown\");\n",
    " return out;\n",
    "});"
   ]
  },
  {
   "cell_type": "code",
   "execution_count": 3,
   "id": "c5af7065",
   "metadata": {
    "vscode": {
     "languageId": "java"
    }
   },
   "outputs": [
    {
     "ename": "CompilationException",
     "evalue": "",
     "output_type": "error",
     "traceback": [
      "\u001b[1m\u001b[30m|   \u001b[1m\u001b[30mimport \u001b[0m\u001b[1m\u001b[30m\u001b[41morg.apache.jena.ontology.OntModel\u001b[0m\u001b[1m\u001b[30m;\u001b[0m",
      "\u001b[1m\u001b[31mpackage org.apache.jena.ontology does not exist\u001b[0m",
      ""
     ]
    }
   ],
   "source": [
    "import org.apache.jena.ontology.OntModel;\n",
    "import org.apache.jena.rdf.model.ModelFactory;\n",
    "import org.apache.jena.reasoner.ValidityReport;\n",
    "import org.apache.jena.ontology.OntModelSpec;\n",
    "import org.apache.jena.query.*;\n",
    "import org.apache.jena.rdf.model.Model;\n",
    "\n",
    "import java.io.ByteArrayInputStream;\n",
    "\n",
    "import org.apache.jena.riot.RDFDataMgr;\n",
    "import org.apache.jena.riot.Lang;\n",
    "\n",
    "import ch.qos.logback.classic.util.ContextInitializer;\n",
    "\n",
    "IJava.getKernelInstance().getMagics().registerCellMagic(\"printNS\", (args, body) -> {\n",
    "String sparqlConstructQueryString = String.format(\"\"\"\n",
    "PREFIX ns: %s\n",
    "DESCRIBE ?s {\n",
    "                ?s  ?o  ?z\n",
    "        FILTER (isURI(?s) && STRSTARTS(str(?s), str(ns:) ) )\n",
    "}\"\"\",body);                                                                                                            \n",
    "        Query query = QueryFactory.create(sparqlConstructQueryString) ;\n",
    "        QueryExecution qexec = QueryExecutionFactory.create(query, model) ;\n",
    "        Model resultModel = qexec.execDescribe() ;\n",
    "        qexec.close() ;\n",
    "\n",
    "        RDFDataMgr.write(System.out, resultModel, Lang.TRIG) ;\n",
    "    \n",
    "    String out=\"\";\n",
    "    \n",
    " return out;\n",
    "});"
   ]
  },
  {
   "cell_type": "markdown",
   "id": "992cdb65-4fa9-4aeb-8e3d-39d7d41e0e87",
   "metadata": {},
   "source": [
    "## Overview"
   ]
  },
  {
   "cell_type": "markdown",
   "id": "2c0720ab-e375-4f38-8945-e1ec5ebdbfc1",
   "metadata": {
    "tags": []
   },
   "source": [
    "### Les classes"
   ]
  },
  {
   "cell_type": "code",
   "execution_count": 4,
   "id": "50a7d376-8066-48b2-bcce-ed90c0db59cc",
   "metadata": {
    "vscode": {
     "languageId": "java"
    }
   },
   "outputs": [
    {
     "ename": "EvalException",
     "evalue": "Undefined cell magic 'loadOwlModel'",
     "output_type": "error",
     "traceback": [
      "\u001b[1m\u001b[31m---------------------------------------------------------------------------\u001b[0m",
      "\u001b[1m\u001b[31mio.github.spencerpark.jupyter.kernel.magic.registry.UndefinedMagicException: Undefined cell magic 'loadOwlModel'\u001b[0m",
      "\u001b[1m\u001b[31m\tat io.github.spencerpark.jupyter.kernel.magic.registry.Magics.applyCellMagic(Magics.java:34)\u001b[0m",
      "\u001b[1m\u001b[31m\tat io.github.spencerpark.ijava.runtime.Magics.cellMagic(Magics.java:54)\u001b[0m",
      "\u001b[1m\u001b[31m\tat .(#59:1)\u001b[0m"
     ]
    }
   ],
   "source": [
    "%%loadOwlModel\n",
    "# A individual belonging to a Class\n",
    ":Mary rdf:type :Person .\n",
    "\n",
    "# the same individual belonging to another Class\n",
    ":Mary rdf:type :Woman .\n",
    "\n",
    "# A class hierarchy\n",
    ":Woman rdfs:subClassOf :Person .\n",
    ":Mother rdfs:subClassOf :Woman .\n",
    "\n",
    "# Two classes can refer to the same set of individuals \n",
    "#   and be semantically equivalent.\n",
    ":Person owl:equivalentClass :Human .\n",
    "    \n"
   ]
  },
  {
   "cell_type": "markdown",
   "id": "75fe5708-eb75-470f-b3e0-3d54700314e9",
   "metadata": {},
   "source": [
    "### Les propriétés"
   ]
  },
  {
   "cell_type": "code",
   "execution_count": 5,
   "id": "c18320bf-3624-4cc5-be0d-5bea02649eed",
   "metadata": {
    "vscode": {
     "languageId": "java"
    }
   },
   "outputs": [
    {
     "ename": "EvalException",
     "evalue": "Undefined cell magic 'loadOwlModel'",
     "output_type": "error",
     "traceback": [
      "\u001b[1m\u001b[31m---------------------------------------------------------------------------\u001b[0m",
      "\u001b[1m\u001b[31mio.github.spencerpark.jupyter.kernel.magic.registry.UndefinedMagicException: Undefined cell magic 'loadOwlModel'\u001b[0m",
      "\u001b[1m\u001b[31m\tat io.github.spencerpark.jupyter.kernel.magic.registry.Magics.applyCellMagic(Magics.java:34)\u001b[0m",
      "\u001b[1m\u001b[31m\tat io.github.spencerpark.ijava.runtime.Magics.cellMagic(Magics.java:54)\u001b[0m",
      "\u001b[1m\u001b[31m\tat .(#60:1)\u001b[0m"
     ]
    }
   ],
   "source": [
    "%%loadOwlModel reset\n",
    ":hasWife rdfs:domain :Man ;\n",
    "          rdfs:range  :Woman ."
   ]
  },
  {
   "cell_type": "code",
   "execution_count": 6,
   "id": "c3469037-a241-4aa2-bf22-cc4e1e185716",
   "metadata": {
    "vscode": {
     "languageId": "java"
    }
   },
   "outputs": [
    {
     "ename": "EvalException",
     "evalue": "Undefined cell magic 'printNS'",
     "output_type": "error",
     "traceback": [
      "\u001b[1m\u001b[31m---------------------------------------------------------------------------\u001b[0m",
      "\u001b[1m\u001b[31mio.github.spencerpark.jupyter.kernel.magic.registry.UndefinedMagicException: Undefined cell magic 'printNS'\u001b[0m",
      "\u001b[1m\u001b[31m\tat io.github.spencerpark.jupyter.kernel.magic.registry.Magics.applyCellMagic(Magics.java:34)\u001b[0m",
      "\u001b[1m\u001b[31m\tat io.github.spencerpark.ijava.runtime.Magics.cellMagic(Magics.java:54)\u001b[0m",
      "\u001b[1m\u001b[31m\tat .(#61:1)\u001b[0m"
     ]
    }
   ],
   "source": [
    "%%printNS\n",
    "<http://ebruno.fr/2023/ontologies/test#>"
   ]
  },
  {
   "cell_type": "markdown",
   "id": "c749f4e9-85ad-458e-88af-52ef460181b0",
   "metadata": {
    "tags": []
   },
   "source": [
    "### Classes énumérées"
   ]
  },
  {
   "cell_type": "code",
   "execution_count": 7,
   "id": "687dfd91-54fa-4225-afa0-5b5bd0169e86",
   "metadata": {
    "vscode": {
     "languageId": "java"
    }
   },
   "outputs": [
    {
     "ename": "EvalException",
     "evalue": "Undefined cell magic 'loadOwlModel'",
     "output_type": "error",
     "traceback": [
      "\u001b[1m\u001b[31m---------------------------------------------------------------------------\u001b[0m",
      "\u001b[1m\u001b[31mio.github.spencerpark.jupyter.kernel.magic.registry.UndefinedMagicException: Undefined cell magic 'loadOwlModel'\u001b[0m",
      "\u001b[1m\u001b[31m\tat io.github.spencerpark.jupyter.kernel.magic.registry.Magics.applyCellMagic(Magics.java:34)\u001b[0m",
      "\u001b[1m\u001b[31m\tat io.github.spencerpark.ijava.runtime.Magics.cellMagic(Magics.java:54)\u001b[0m",
      "\u001b[1m\u001b[31m\tat .(#62:1)\u001b[0m"
     ]
    }
   ],
   "source": [
    "%%loadOwlModel reset\n",
    "@prefix : <http://ebruno.fr/2023/ontologies/test#> .\n",
    ":Status rdf:type owl:Class ;\n",
    "    owl:oneOf (:OnLine :Offline) .\n",
    "\n",
    ":sensor1 :hasStatus :Online .\n",
    "        "
   ]
  },
  {
   "cell_type": "markdown",
   "id": "544f3f7d-dd63-4731-ab33-8411503865ed",
   "metadata": {},
   "source": [
    "### Union"
   ]
  },
  {
   "cell_type": "code",
   "execution_count": 8,
   "id": "1eb41da7-8d41-4af4-8894-96972bf8d379",
   "metadata": {
    "vscode": {
     "languageId": "java"
    }
   },
   "outputs": [
    {
     "ename": "EvalException",
     "evalue": "Undefined cell magic 'loadOwlModel'",
     "output_type": "error",
     "traceback": [
      "\u001b[1m\u001b[31m---------------------------------------------------------------------------\u001b[0m",
      "\u001b[1m\u001b[31mio.github.spencerpark.jupyter.kernel.magic.registry.UndefinedMagicException: Undefined cell magic 'loadOwlModel'\u001b[0m",
      "\u001b[1m\u001b[31m\tat io.github.spencerpark.jupyter.kernel.magic.registry.Magics.applyCellMagic(Magics.java:34)\u001b[0m",
      "\u001b[1m\u001b[31m\tat io.github.spencerpark.ijava.runtime.Magics.cellMagic(Magics.java:54)\u001b[0m",
      "\u001b[1m\u001b[31m\tat .(#63:1)\u001b[0m"
     ]
    }
   ],
   "source": [
    "%%loadOwlModel reset\n",
    "@prefix : <http://ebruno.fr/2023/ontologies/test#> .\n",
    ":LegalAgent a owl:Class ;\n",
    "owl:equivalentClass [\n",
    "        a owl:Class ;\n",
    "        owl:unionOf ( :Person :Group )\n",
    "    ] ."
   ]
  },
  {
   "cell_type": "markdown",
   "id": "9abae8b0-83e2-4f10-bdb6-e5728ddf1a8d",
   "metadata": {
    "tags": []
   },
   "source": [
    "### Intersection"
   ]
  },
  {
   "cell_type": "code",
   "execution_count": 9,
   "id": "da69fd70-4309-4bba-a457-b2b031db2175",
   "metadata": {
    "vscode": {
     "languageId": "java"
    }
   },
   "outputs": [
    {
     "ename": "EvalException",
     "evalue": "Undefined cell magic 'loadOwlModel'",
     "output_type": "error",
     "traceback": [
      "\u001b[1m\u001b[31m---------------------------------------------------------------------------\u001b[0m",
      "\u001b[1m\u001b[31mio.github.spencerpark.jupyter.kernel.magic.registry.UndefinedMagicException: Undefined cell magic 'loadOwlModel'\u001b[0m",
      "\u001b[1m\u001b[31m\tat io.github.spencerpark.jupyter.kernel.magic.registry.Magics.applyCellMagic(Magics.java:34)\u001b[0m",
      "\u001b[1m\u001b[31m\tat io.github.spencerpark.ijava.runtime.Magics.cellMagic(Magics.java:54)\u001b[0m",
      "\u001b[1m\u001b[31m\tat .(#64:1)\u001b[0m"
     ]
    }
   ],
   "source": [
    "%%loadOwlModel\n",
    "@prefix : <http://ebruno.fr/2023/ontologies/test#> .\n",
    ":Man a owl:Class ;\n",
    "owl:equivalentClass [\n",
    "    a owl:Class ;\n",
    "    owl:intersectionOf ( :Person :Male )\n",
    "]."
   ]
  },
  {
   "cell_type": "markdown",
   "id": "52646a25-9b83-4966-a6c9-04677bdc8551",
   "metadata": {
    "tags": []
   },
   "source": [
    "### Négation"
   ]
  },
  {
   "cell_type": "code",
   "execution_count": 10,
   "id": "6c1daa2a-9012-4f99-bf68-17387d0a871a",
   "metadata": {
    "vscode": {
     "languageId": "java"
    }
   },
   "outputs": [
    {
     "ename": "EvalException",
     "evalue": "Undefined cell magic 'loadOwlModel'",
     "output_type": "error",
     "traceback": [
      "\u001b[1m\u001b[31m---------------------------------------------------------------------------\u001b[0m",
      "\u001b[1m\u001b[31mio.github.spencerpark.jupyter.kernel.magic.registry.UndefinedMagicException: Undefined cell magic 'loadOwlModel'\u001b[0m",
      "\u001b[1m\u001b[31m\tat io.github.spencerpark.jupyter.kernel.magic.registry.Magics.applyCellMagic(Magics.java:34)\u001b[0m",
      "\u001b[1m\u001b[31m\tat io.github.spencerpark.ijava.runtime.Magics.cellMagic(Magics.java:54)\u001b[0m",
      "\u001b[1m\u001b[31m\tat .(#65:1)\u001b[0m"
     ]
    }
   ],
   "source": [
    "%%loadOwlModel\n",
    "@prefix : <http://ebruno.fr/2023/ontologies/test#> .\n",
    ":Inedible a owl:Class ;\n",
    "owl:equivalentClass [\n",
    "  a owl:Class ;\n",
    "  owl:complementOf :Edible\n",
    "  ] .\n",
    "    \n",
    ":Pierre a :Edible."
   ]
  },
  {
   "cell_type": "markdown",
   "id": "81f0ae8d-a696-4da6-86b8-bc838356d478",
   "metadata": {
    "tags": []
   },
   "source": [
    "### Disjonction\n",
    "\n",
    "deux classes : Une ressource ne peut pas appartenir aux deux classes en même temps."
   ]
  },
  {
   "cell_type": "code",
   "execution_count": 11,
   "id": "6029862d-e2c9-4598-96c6-326cceba4b74",
   "metadata": {
    "vscode": {
     "languageId": "java"
    }
   },
   "outputs": [
    {
     "ename": "EvalException",
     "evalue": "Undefined cell magic 'loadOwlModel'",
     "output_type": "error",
     "traceback": [
      "\u001b[1m\u001b[31m---------------------------------------------------------------------------\u001b[0m",
      "\u001b[1m\u001b[31mio.github.spencerpark.jupyter.kernel.magic.registry.UndefinedMagicException: Undefined cell magic 'loadOwlModel'\u001b[0m",
      "\u001b[1m\u001b[31m\tat io.github.spencerpark.jupyter.kernel.magic.registry.Magics.applyCellMagic(Magics.java:34)\u001b[0m",
      "\u001b[1m\u001b[31m\tat io.github.spencerpark.ijava.runtime.Magics.cellMagic(Magics.java:54)\u001b[0m",
      "\u001b[1m\u001b[31m\tat .(#66:1)\u001b[0m"
     ]
    }
   ],
   "source": [
    "%%loadOwlModel\n",
    "@prefix : <http://ebruno.fr/2023/ontologies/test#> .\n",
    "\n",
    ":Square rdf:type owl:Class ;\n",
    "        owl:disjointWith :Circle .\n",
    "    \n",
    ":c a :Square ; \n",
    "   a :Circle . "
   ]
  },
  {
   "cell_type": "code",
   "execution_count": 12,
   "id": "d512224a-decd-47d9-9cd7-d3139374f8c5",
   "metadata": {
    "vscode": {
     "languageId": "java"
    }
   },
   "outputs": [
    {
     "ename": "EvalException",
     "evalue": "Undefined cell magic 'loadOwlModel'",
     "output_type": "error",
     "traceback": [
      "\u001b[1m\u001b[31m---------------------------------------------------------------------------\u001b[0m",
      "\u001b[1m\u001b[31mio.github.spencerpark.jupyter.kernel.magic.registry.UndefinedMagicException: Undefined cell magic 'loadOwlModel'\u001b[0m",
      "\u001b[1m\u001b[31m\tat io.github.spencerpark.jupyter.kernel.magic.registry.Magics.applyCellMagic(Magics.java:34)\u001b[0m",
      "\u001b[1m\u001b[31m\tat io.github.spencerpark.ijava.runtime.Magics.cellMagic(Magics.java:54)\u001b[0m",
      "\u001b[1m\u001b[31m\tat .(#67:1)\u001b[0m"
     ]
    }
   ],
   "source": [
    "%%loadOwlModel\n",
    "@prefix : <http://ebruno.fr/2023/ontologies/test#> .\n",
    "                   @prefix rdf: <http://www.w3.org/1999/02/22-rdf-syntax-ns#> .\n",
    "                   @prefix rdfs: <http://www.w3.org/2000/01/rdf-schema#> .\n",
    "                   @prefix owl: <http://www.w3.org/2002/07/owl#> .\n",
    "                   @prefix xsd: <http://www.w3.org/2001/XMLSchema#> .\n",
    "                   :Mary a :Student; a :Professor .\n",
    "                   :Student a owl:Class .\n",
    "                   :Professor a owl:Class .\n",
    "                       \n",
    "                   :Student rdf:type owl:Class ;\n",
    "                       owl:disjointWith :Professor ."
   ]
  },
  {
   "cell_type": "markdown",
   "id": "da25fa2a-f1c1-43dc-9368-19db883555d1",
   "metadata": {},
   "source": [
    "### Disjonction de plusieurs classes\n",
    "\n",
    "une ressource ne peut, au plus, appartenir qu’à une seule de ces classes"
   ]
  },
  {
   "cell_type": "code",
   "execution_count": 13,
   "id": "2101bcde-a33e-423c-a6c7-6b75993da8b1",
   "metadata": {
    "vscode": {
     "languageId": "java"
    }
   },
   "outputs": [
    {
     "ename": "EvalException",
     "evalue": "Undefined cell magic 'loadOwlModel'",
     "output_type": "error",
     "traceback": [
      "\u001b[1m\u001b[31m---------------------------------------------------------------------------\u001b[0m",
      "\u001b[1m\u001b[31mio.github.spencerpark.jupyter.kernel.magic.registry.UndefinedMagicException: Undefined cell magic 'loadOwlModel'\u001b[0m",
      "\u001b[1m\u001b[31m\tat io.github.spencerpark.jupyter.kernel.magic.registry.Magics.applyCellMagic(Magics.java:34)\u001b[0m",
      "\u001b[1m\u001b[31m\tat io.github.spencerpark.ijava.runtime.Magics.cellMagic(Magics.java:54)\u001b[0m",
      "\u001b[1m\u001b[31m\tat .(#68:1)\u001b[0m"
     ]
    }
   ],
   "source": [
    "%%loadOwlModel\n",
    "@prefix : <http://ebruno.fr/2023/ontologies/test#> .\n",
    "\n",
    "[] rdf:type owl:AllDisjointClasses ;\n",
    "   owl:members\n",
    "   :Square, :Circle, :Triangle .\n",
    "    \n",
    ":c a :Square .\n",
    ":c a :Circle ."
   ]
  },
  {
   "cell_type": "code",
   "execution_count": 14,
   "id": "d63f9f30-0ebc-463f-941e-c62e0cb12f0d",
   "metadata": {
    "vscode": {
     "languageId": "java"
    }
   },
   "outputs": [
    {
     "ename": "EvalException",
     "evalue": "Undefined cell magic 'printNS'",
     "output_type": "error",
     "traceback": [
      "\u001b[1m\u001b[31m---------------------------------------------------------------------------\u001b[0m",
      "\u001b[1m\u001b[31mio.github.spencerpark.jupyter.kernel.magic.registry.UndefinedMagicException: Undefined cell magic 'printNS'\u001b[0m",
      "\u001b[1m\u001b[31m\tat io.github.spencerpark.jupyter.kernel.magic.registry.Magics.applyCellMagic(Magics.java:34)\u001b[0m",
      "\u001b[1m\u001b[31m\tat io.github.spencerpark.ijava.runtime.Magics.cellMagic(Magics.java:54)\u001b[0m",
      "\u001b[1m\u001b[31m\tat .(#69:1)\u001b[0m"
     ]
    }
   ],
   "source": [
    "%%printNS\n",
    "<http://ebruno.fr/2023/ontologies/test#>"
   ]
  },
  {
   "cell_type": "markdown",
   "id": "47df4059-74d0-4f94-84cc-de1bb33600d9",
   "metadata": {},
   "source": [
    "### Union disjointe\n",
    "diviser une classe en une partition complète de sous classes"
   ]
  },
  {
   "cell_type": "code",
   "execution_count": 15,
   "id": "d1c976bb-c887-47a7-b418-bc53fb2444b5",
   "metadata": {
    "vscode": {
     "languageId": "java"
    }
   },
   "outputs": [
    {
     "ename": "EvalException",
     "evalue": "Undefined cell magic 'loadOwlModel'",
     "output_type": "error",
     "traceback": [
      "\u001b[1m\u001b[31m---------------------------------------------------------------------------\u001b[0m",
      "\u001b[1m\u001b[31mio.github.spencerpark.jupyter.kernel.magic.registry.UndefinedMagicException: Undefined cell magic 'loadOwlModel'\u001b[0m",
      "\u001b[1m\u001b[31m\tat io.github.spencerpark.jupyter.kernel.magic.registry.Magics.applyCellMagic(Magics.java:34)\u001b[0m",
      "\u001b[1m\u001b[31m\tat io.github.spencerpark.ijava.runtime.Magics.cellMagic(Magics.java:54)\u001b[0m",
      "\u001b[1m\u001b[31m\tat .(#70:1)\u001b[0m"
     ]
    }
   ],
   "source": [
    "%%loadOwlModel\n",
    "@prefix : <http://ebruno.fr/2023/ontologies/test#> .\n",
    "\n",
    ":Passenger rdf:type owl:Class ;\n",
    "           owl:disjointUnionOf :Adult, :Child, :Pet .\n",
    "               \n",
    ":p1 a :Adult ;             \n",
    "    a :Child ;\n",
    "    a :Pet ."
   ]
  },
  {
   "cell_type": "code",
   "execution_count": 16,
   "id": "a61e8b04-b5ed-42f2-bb55-e31e7345895a",
   "metadata": {
    "vscode": {
     "languageId": "java"
    }
   },
   "outputs": [
    {
     "ename": "EvalException",
     "evalue": "Undefined cell magic 'loadOwlModel'",
     "output_type": "error",
     "traceback": [
      "\u001b[1m\u001b[31m---------------------------------------------------------------------------\u001b[0m",
      "\u001b[1m\u001b[31mio.github.spencerpark.jupyter.kernel.magic.registry.UndefinedMagicException: Undefined cell magic 'loadOwlModel'\u001b[0m",
      "\u001b[1m\u001b[31m\tat io.github.spencerpark.jupyter.kernel.magic.registry.Magics.applyCellMagic(Magics.java:34)\u001b[0m",
      "\u001b[1m\u001b[31m\tat io.github.spencerpark.ijava.runtime.Magics.cellMagic(Magics.java:54)\u001b[0m",
      "\u001b[1m\u001b[31m\tat .(#71:1)\u001b[0m"
     ]
    }
   ],
   "source": [
    "%%loadOwlModel\n",
    "@prefix : <http://ebruno.fr/2023/ontologies/test#> .\n",
    ":John a :Man ;\n",
    "    :name \"John\" ;\n",
    "    :hasSpouse :Mary .\n",
    ":Mary a :Woman ;\n",
    "    :name \"Mary\" ;\n",
    "    :hasSpouse :John .\n",
    ":John_jr a :Man ;\n",
    "    :name \"John Jr.\" ;\n",
    "    :hasParent :John, :Mary .\n",
    ":Time_Span a owl:Class .\n",
    ":event a :Activity ;\n",
    "    :has_time_span [\n",
    "        a :Time_Span ;\n",
    "        :at_some_time_within_date \"2018-01-12\"^^xsd:date\n",
    "        ] .\n",
    ":u129u-klejkajo-2309124u-sajfl a :Person ;\n",
    "    :name \"John Doe\" ."
   ]
  },
  {
   "cell_type": "markdown",
   "id": "462aaf15-fe37-4e43-ba09-701e0a2be6eb",
   "metadata": {},
   "source": [
    "## Les propriétés\n",
    "\n",
    "  1. owl:ObjectProperty sont des relations entre des ressources\n",
    "  1. owl:DatatypeProperty ont des valeurs littérales (typées)\n",
    "  1. owl:AnnotationProperty sont ignorées dans les inférences et utilisées pour documenter ou pour des extensions"
   ]
  },
  {
   "cell_type": "code",
   "execution_count": 17,
   "id": "bd4d68de-3b77-4316-b661-9de49de21b2a",
   "metadata": {
    "vscode": {
     "languageId": "java"
    }
   },
   "outputs": [
    {
     "ename": "EvalException",
     "evalue": "Undefined cell magic 'loadOwlModel'",
     "output_type": "error",
     "traceback": [
      "\u001b[1m\u001b[31m---------------------------------------------------------------------------\u001b[0m",
      "\u001b[1m\u001b[31mio.github.spencerpark.jupyter.kernel.magic.registry.UndefinedMagicException: Undefined cell magic 'loadOwlModel'\u001b[0m",
      "\u001b[1m\u001b[31m\tat io.github.spencerpark.jupyter.kernel.magic.registry.Magics.applyCellMagic(Magics.java:34)\u001b[0m",
      "\u001b[1m\u001b[31m\tat io.github.spencerpark.ijava.runtime.Magics.cellMagic(Magics.java:54)\u001b[0m",
      "\u001b[1m\u001b[31m\tat .(#72:1)\u001b[0m"
     ]
    }
   ],
   "source": [
    "%%loadOwlModel\n",
    "@prefix : <http://ebruno.fr/2023/ontologies/test#> .\n",
    "\n",
    ":aSensor :hasName \"s1\",\n",
    "    :hasModel,\n"
   ]
  },
  {
   "cell_type": "markdown",
   "id": "d157a947-e641-4e5e-8699-f3b3049d9172",
   "metadata": {},
   "source": [
    "Une relation peut être symétriques ou non, et/ou réflexive ou non.\n",
    "\n",
    "AsymmetricProperty"
   ]
  },
  {
   "cell_type": "code",
   "execution_count": 18,
   "id": "56eaab2c-1a99-4038-a842-7a9d519dcd86",
   "metadata": {
    "vscode": {
     "languageId": "java"
    }
   },
   "outputs": [
    {
     "ename": "EvalException",
     "evalue": "Undefined cell magic 'loadOwlModel'",
     "output_type": "error",
     "traceback": [
      "\u001b[1m\u001b[31m---------------------------------------------------------------------------\u001b[0m",
      "\u001b[1m\u001b[31mio.github.spencerpark.jupyter.kernel.magic.registry.UndefinedMagicException: Undefined cell magic 'loadOwlModel'\u001b[0m",
      "\u001b[1m\u001b[31m\tat io.github.spencerpark.jupyter.kernel.magic.registry.Magics.applyCellMagic(Magics.java:34)\u001b[0m",
      "\u001b[1m\u001b[31m\tat io.github.spencerpark.ijava.runtime.Magics.cellMagic(Magics.java:54)\u001b[0m",
      "\u001b[1m\u001b[31m\tat .(#73:1)\u001b[0m"
     ]
    }
   ],
   "source": [
    "%%loadOwlModel\n",
    "@prefix : <http://ebruno.fr/2023/ontologies/test#> .\n",
    "\n",
    ":hasSpouse rdf:type owl:ObjectProperty ,\n",
    "        owl:SymmetricProperty ,\n",
    "        owl:IrreflexiveProperty .\n",
    "            \n",
    ":x :hasSpouse :y.\n",
    "    \n",
    ":b :hasSpouse :b."
   ]
  },
  {
   "cell_type": "markdown",
   "id": "e25080c3-46bc-4fe1-9f81-c0ccdac96ce8",
   "metadata": {},
   "source": [
    "inverse : deux relations qui existent simultanément en sens inverse (ex. parent_de /\n",
    "enfant_de)\n",
    "\n",
    "transitives : une relation qui se propage de proche en proche (ex. Tom ancêtre Jim ancêtre\n",
    "Jules)\n",
    "\n",
    "propriétés disjointes : Des relations qui ne peuvent pas exister en même temps sur le même sujet et le même objet"
   ]
  },
  {
   "cell_type": "code",
   "execution_count": 19,
   "id": "b29a8b85-2ece-4d1c-8d84-4bc58aadf7b3",
   "metadata": {
    "vscode": {
     "languageId": "java"
    }
   },
   "outputs": [
    {
     "ename": "EvalException",
     "evalue": "Undefined cell magic 'loadOwlModel'",
     "output_type": "error",
     "traceback": [
      "\u001b[1m\u001b[31m---------------------------------------------------------------------------\u001b[0m",
      "\u001b[1m\u001b[31mio.github.spencerpark.jupyter.kernel.magic.registry.UndefinedMagicException: Undefined cell magic 'loadOwlModel'\u001b[0m",
      "\u001b[1m\u001b[31m\tat io.github.spencerpark.jupyter.kernel.magic.registry.Magics.applyCellMagic(Magics.java:34)\u001b[0m",
      "\u001b[1m\u001b[31m\tat io.github.spencerpark.ijava.runtime.Magics.cellMagic(Magics.java:54)\u001b[0m",
      "\u001b[1m\u001b[31m\tat .(#74:1)\u001b[0m"
     ]
    }
   ],
   "source": [
    "%%loadOwlModel\n",
    "@prefix : <http://ebruno.fr/2023/ontologies/test#> .\n",
    "\n",
    ":hasAncestor rdf:type owl:ObjectProperty ,\n",
    "        owl:transitive ;\n",
    "        owl:inverseOf :hasDescendant .            \n",
    "\n",
    ":hasSon rdf:type owl:ObjectProperty ;\n",
    "        owl:disjointwith :hasDaughter.             \n",
    "            \n",
    ":Mary :hasHusband :Pierre .\n",
    ":Mary :hasAncestor :Jean .\n",
    ":Jean :hasAncestor :Sophie .\n",
    "            "
   ]
  },
  {
   "cell_type": "code",
   "execution_count": 20,
   "id": "b6d0666f-c425-478e-8c8e-be98e35d5671",
   "metadata": {
    "vscode": {
     "languageId": "java"
    }
   },
   "outputs": [
    {
     "ename": "EvalException",
     "evalue": "Undefined cell magic 'printNS'",
     "output_type": "error",
     "traceback": [
      "\u001b[1m\u001b[31m---------------------------------------------------------------------------\u001b[0m",
      "\u001b[1m\u001b[31mio.github.spencerpark.jupyter.kernel.magic.registry.UndefinedMagicException: Undefined cell magic 'printNS'\u001b[0m",
      "\u001b[1m\u001b[31m\tat io.github.spencerpark.jupyter.kernel.magic.registry.Magics.applyCellMagic(Magics.java:34)\u001b[0m",
      "\u001b[1m\u001b[31m\tat io.github.spencerpark.ijava.runtime.Magics.cellMagic(Magics.java:54)\u001b[0m",
      "\u001b[1m\u001b[31m\tat .(#75:1)\u001b[0m"
     ]
    }
   ],
   "source": [
    "%%printNS\n",
    "<http://ebruno.fr/2023/ontologies/test#>"
   ]
  },
  {
   "cell_type": "code",
   "execution_count": 21,
   "id": "af629cba-bace-4334-8f2c-7b58f7cae2c4",
   "metadata": {
    "vscode": {
     "languageId": "java"
    }
   },
   "outputs": [
    {
     "ename": "EvalException",
     "evalue": "Undefined cell magic 'loadOwlModel'",
     "output_type": "error",
     "traceback": [
      "\u001b[1m\u001b[31m---------------------------------------------------------------------------\u001b[0m",
      "\u001b[1m\u001b[31mio.github.spencerpark.jupyter.kernel.magic.registry.UndefinedMagicException: Undefined cell magic 'loadOwlModel'\u001b[0m",
      "\u001b[1m\u001b[31m\tat io.github.spencerpark.jupyter.kernel.magic.registry.Magics.applyCellMagic(Magics.java:34)\u001b[0m",
      "\u001b[1m\u001b[31m\tat io.github.spencerpark.ijava.runtime.Magics.cellMagic(Magics.java:54)\u001b[0m",
      "\u001b[1m\u001b[31m\tat .(#76:1)\u001b[0m"
     ]
    }
   ],
   "source": [
    "%%loadOwlModel\n",
    "@prefix : <http://ebruno.fr/2023/ontologies/test#> .\n",
    "          \n",
    ":hasSon rdf:type owl:ObjectProperty ;\n",
    "        owl:propertyDisjointWith :hasDaughter.\n",
    "            \n",
    ":x :hasSon :y .\n",
    ":x :hasDaughter :y ."
   ]
  },
  {
   "cell_type": "markdown",
   "id": "3dd49bb7-2abb-41b3-9e92-e051db3ed64b",
   "metadata": {},
   "source": [
    "propriétés chaînées\n",
    "des relations qui mises bout à bout impliquent une autre relation\n",
    "(ex. parent + frère = oncle)"
   ]
  },
  {
   "cell_type": "code",
   "execution_count": 22,
   "id": "c13f9999-6927-45c2-ba4a-0025484e570a",
   "metadata": {
    "vscode": {
     "languageId": "java"
    }
   },
   "outputs": [
    {
     "ename": "EvalException",
     "evalue": "Undefined cell magic 'loadOwlModel'",
     "output_type": "error",
     "traceback": [
      "\u001b[1m\u001b[31m---------------------------------------------------------------------------\u001b[0m",
      "\u001b[1m\u001b[31mio.github.spencerpark.jupyter.kernel.magic.registry.UndefinedMagicException: Undefined cell magic 'loadOwlModel'\u001b[0m",
      "\u001b[1m\u001b[31m\tat io.github.spencerpark.jupyter.kernel.magic.registry.Magics.applyCellMagic(Magics.java:34)\u001b[0m",
      "\u001b[1m\u001b[31m\tat io.github.spencerpark.ijava.runtime.Magics.cellMagic(Magics.java:54)\u001b[0m",
      "\u001b[1m\u001b[31m\tat .(#77:1)\u001b[0m"
     ]
    }
   ],
   "source": [
    "%%loadOwlModel\n",
    "@prefix : <http://ebruno.fr/2023/ontologies/test#> .\n",
    "\n",
    ":hasUncle owl:propertyChainAxiom (:hasParent :hasBrother).\n",
    "\n",
    ":hasGrandparent owl:propertyChainAxiom ( :hasParent :hasParent ).\n",
    "\n",
    ":x :hasParent :y.\n",
    ":y :hasParent :z.\n",
    ":y :hasBrother :y1."
   ]
  },
  {
   "cell_type": "markdown",
   "id": "4959092c-40c6-4a28-9644-383063840d70",
   "metadata": {},
   "source": [
    "propriétés fonctionnelles\n",
    "une relation pour laquelle une ressource ne peut avoir qu’une valeur (ex.\n",
    "naissance)\n",
    "\n",
    "propriétés inverses fonctionnelles\n",
    "une relation pour laquelle une même valeur implique la même ressource (ex.\n",
    "NSS)"
   ]
  },
  {
   "cell_type": "code",
   "execution_count": 23,
   "id": "d056defb-a02b-4f8c-b658-ebb1f4951ad9",
   "metadata": {
    "vscode": {
     "languageId": "java"
    }
   },
   "outputs": [
    {
     "ename": "EvalException",
     "evalue": "Undefined cell magic 'loadOwlModel'",
     "output_type": "error",
     "traceback": [
      "\u001b[1m\u001b[31m---------------------------------------------------------------------------\u001b[0m",
      "\u001b[1m\u001b[31mio.github.spencerpark.jupyter.kernel.magic.registry.UndefinedMagicException: Undefined cell magic 'loadOwlModel'\u001b[0m",
      "\u001b[1m\u001b[31m\tat io.github.spencerpark.jupyter.kernel.magic.registry.Magics.applyCellMagic(Magics.java:34)\u001b[0m",
      "\u001b[1m\u001b[31m\tat io.github.spencerpark.ijava.runtime.Magics.cellMagic(Magics.java:54)\u001b[0m",
      "\u001b[1m\u001b[31m\tat .(#78:1)\u001b[0m"
     ]
    }
   ],
   "source": [
    "%%loadOwlModel\n",
    "@prefix : <http://ebruno.fr/2023/ontologies/test#> .\n",
    "@prefix f: <http://example.com/owl/families#> .\n",
    "@prefix g: <http://example.com/owl/families#> .\n",
    "\n",
    "f:hasWife rdf:type owl:ObjectProperty ,\n",
    "        owl:InverseFunctionalProperty ,\n",
    "        owl:FunctionalProperty ,\n",
    "        owl:AsymmetricProperty ,\n",
    "        owl:IrreflexiveProperty ;\n",
    "    rdfs:domain f:Person ;\n",
    "    rdfs:range f:Person ;\n",
    "    rdfs:subPropertyOf f:loves ;\n",
    "    rdfs:range f:Woman ;\n",
    "    rdfs:subPropertyOf f:hasSpouse ;\n",
    "    rdfs:domain f:Man .\n",
    "        \n",
    ":x f:hasWife :y ."
   ]
  },
  {
   "cell_type": "markdown",
   "id": "201afb62-2bca-4b86-baf0-81ce62fe5535",
   "metadata": {},
   "source": [
    "identification par des clés\n",
    "deux instances qui ont même(s) valeur(s) de clé(s) sont en réalité la même\n",
    "instance"
   ]
  },
  {
   "cell_type": "code",
   "execution_count": 24,
   "id": "7fdda5ba-a20d-40dc-a548-8779afff2817",
   "metadata": {
    "vscode": {
     "languageId": "java"
    }
   },
   "outputs": [
    {
     "ename": "EvalException",
     "evalue": "Undefined cell magic 'loadOwlModel'",
     "output_type": "error",
     "traceback": [
      "\u001b[1m\u001b[31m---------------------------------------------------------------------------\u001b[0m",
      "\u001b[1m\u001b[31mio.github.spencerpark.jupyter.kernel.magic.registry.UndefinedMagicException: Undefined cell magic 'loadOwlModel'\u001b[0m",
      "\u001b[1m\u001b[31m\tat io.github.spencerpark.jupyter.kernel.magic.registry.Magics.applyCellMagic(Magics.java:34)\u001b[0m",
      "\u001b[1m\u001b[31m\tat io.github.spencerpark.ijava.runtime.Magics.cellMagic(Magics.java:54)\u001b[0m",
      "\u001b[1m\u001b[31m\tat .(#79:1)\u001b[0m"
     ]
    }
   ],
   "source": [
    "%%loadOwlModel\n",
    "@prefix : <http://ebruno.fr/2023/ontologies/test#> .\n",
    "\n",
    ":Person owl:hasKey ( :hasSSN ) .\n",
    "    \n",
    ":x :hasSSN \"1234\" . \n",
    ":y :hasSSN \"1234\" .\n",
    ":x :hasName \"Pierre\" ."
   ]
  },
  {
   "cell_type": "code",
   "execution_count": 25,
   "id": "8964bd91-36ce-405f-9c01-2c9b922a673f",
   "metadata": {
    "vscode": {
     "languageId": "java"
    }
   },
   "outputs": [
    {
     "ename": "EvalException",
     "evalue": "Undefined cell magic 'printNS'",
     "output_type": "error",
     "traceback": [
      "\u001b[1m\u001b[31m---------------------------------------------------------------------------\u001b[0m",
      "\u001b[1m\u001b[31mio.github.spencerpark.jupyter.kernel.magic.registry.UndefinedMagicException: Undefined cell magic 'printNS'\u001b[0m",
      "\u001b[1m\u001b[31m\tat io.github.spencerpark.jupyter.kernel.magic.registry.Magics.applyCellMagic(Magics.java:34)\u001b[0m",
      "\u001b[1m\u001b[31m\tat io.github.spencerpark.ijava.runtime.Magics.cellMagic(Magics.java:54)\u001b[0m",
      "\u001b[1m\u001b[31m\tat .(#80:1)\u001b[0m"
     ]
    }
   ],
   "source": [
    "%%printNS\n",
    "<http://ebruno.fr/2023/ontologies/test#>"
   ]
  },
  {
   "cell_type": "markdown",
   "id": "0b2d18a1-46ec-4265-b715-72921d698017",
   "metadata": {},
   "source": [
    "## Negative properties assertion"
   ]
  },
  {
   "cell_type": "code",
   "execution_count": 26,
   "id": "7308918e-4166-4ecd-b2df-546a108a47de",
   "metadata": {
    "vscode": {
     "languageId": "java"
    }
   },
   "outputs": [
    {
     "ename": "EvalException",
     "evalue": "Undefined cell magic 'loadOwlModel'",
     "output_type": "error",
     "traceback": [
      "\u001b[1m\u001b[31m---------------------------------------------------------------------------\u001b[0m",
      "\u001b[1m\u001b[31mio.github.spencerpark.jupyter.kernel.magic.registry.UndefinedMagicException: Undefined cell magic 'loadOwlModel'\u001b[0m",
      "\u001b[1m\u001b[31m\tat io.github.spencerpark.jupyter.kernel.magic.registry.Magics.applyCellMagic(Magics.java:34)\u001b[0m",
      "\u001b[1m\u001b[31m\tat io.github.spencerpark.ijava.runtime.Magics.cellMagic(Magics.java:54)\u001b[0m",
      "\u001b[1m\u001b[31m\tat .(#81:1)\u001b[0m"
     ]
    }
   ],
   "source": [
    "%%loadOwlModel\n",
    "@prefix : <http://ebruno.fr/2023/ontologies/test#> .\n",
    "\n",
    "[]  rdf:type               owl:NegativePropertyAssertion ;\n",
    "     owl:sourceIndividual   :Bill ;\n",
    "     owl:assertionProperty  :hasWife ;\n",
    "     owl:targetIndividual   :Mary .\n",
    "        "
   ]
  },
  {
   "cell_type": "code",
   "execution_count": 27,
   "id": "fb7b4f55-3672-4126-8b6f-ab58c56de2fb",
   "metadata": {
    "vscode": {
     "languageId": "java"
    }
   },
   "outputs": [],
   "source": []
  }
 ],
 "metadata": {
  "kernelspec": {
   "display_name": "Java [conda env:root] *",
   "language": "java",
   "name": "conda-root-java"
  },
  "language_info": {
   "codemirror_mode": "java",
   "file_extension": ".jshell",
   "mimetype": "text/x-java-source",
   "name": "Java",
   "pygments_lexer": "java",
   "version": "21.0.2+13-LTS"
  }
 },
 "nbformat": 4,
 "nbformat_minor": 5
}
